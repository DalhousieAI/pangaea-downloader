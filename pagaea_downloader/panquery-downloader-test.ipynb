{
 "cells": [
  {
   "cell_type": "markdown",
   "metadata": {},
   "source": [
    "# Download datasets using `PanQuery` search"
   ]
  },
  {
   "cell_type": "code",
   "execution_count": null,
   "metadata": {},
   "outputs": [],
   "source": [
    "import os\n",
    "\n",
    "import pandas as pd\n",
    "import pangaeapy\n",
    "from utilz import fetch_child_datasets, has_url_col"
   ]
  },
  {
   "cell_type": "markdown",
   "metadata": {},
   "source": [
    "Make sure output directory exists"
   ]
  },
  {
   "cell_type": "code",
   "execution_count": null,
   "metadata": {},
   "outputs": [],
   "source": [
    "out_dir = \"../query-outputs\"\n",
    "os.makedirs(out_dir, exist_ok=True)"
   ]
  },
  {
   "cell_type": "markdown",
   "metadata": {},
   "source": [
    "## Make search query"
   ]
  },
  {
   "cell_type": "code",
   "execution_count": null,
   "metadata": {},
   "outputs": [],
   "source": [
    "query = \"seabed photographs\"\n",
    "n_results = 25"
   ]
  },
  {
   "cell_type": "code",
   "execution_count": null,
   "metadata": {},
   "outputs": [],
   "source": [
    "pq = pangaeapy.PanQuery(query=query, limit=n_results)\n",
    "print(\"Requested URL:\", pq.PANGAEA_QUERY_URL + \"+\".join(pq.query.split(\" \")))\n",
    "\n",
    "print(\"Number of results returned:\", len(pq.result))\n",
    "print(\"Total search results\", pq.totalcount)"
   ]
  },
  {
   "cell_type": "markdown",
   "metadata": {},
   "source": [
    "## Fetch datasets from search results"
   ]
  },
  {
   "cell_type": "code",
   "execution_count": null,
   "metadata": {},
   "outputs": [],
   "source": [
    "result_dois = [r_item[\"URI\"] for r_item in pq.result]  # Get DOIs for each result item\n",
    "datasets = [\n",
    "    pangaeapy.PanDataSet(doi) for doi in result_dois\n",
    "]  # Fetch datasets for each DOI"
   ]
  },
  {
   "cell_type": "markdown",
   "metadata": {},
   "source": [
    "**Note:** Using list comprehension to make a list of `PanDataSets` is fine for small number of datasets. But for larger size lists with many datasets it may raise a `MemoryError`. So its better to fetch each dataset in a loop instead."
   ]
  },
  {
   "cell_type": "markdown",
   "metadata": {},
   "source": [
    "### View charactereistics of datasets"
   ]
  },
  {
   "cell_type": "code",
   "execution_count": null,
   "metadata": {},
   "outputs": [],
   "source": [
    "data = {\n",
    "    \"dataset\": [ds.title for ds in datasets],\n",
    "    \"doi\": result_dois,\n",
    "    \"is_parent\": [ds.isParent for ds in datasets],\n",
    "    \"data_shape\": [ds.data.shape for ds in datasets],\n",
    "    \"access\": [ds.loginstatus for ds in datasets],\n",
    "}\n",
    "pd.DataFrame(data)"
   ]
  },
  {
   "cell_type": "code",
   "execution_count": null,
   "metadata": {},
   "outputs": [],
   "source": [
    "print(\"[INFO] Processing each dataset...\")\n",
    "for i, ds in enumerate(datasets):\n",
    "    # Get dataset ID\n",
    "    ds_id = ds.doi.split(\".\")[-1]\n",
    "    print(f\"[{i+1}] Dataset ID: {ds_id}. Title: '{ds.title}'\")\n",
    "    # Can access dataset\n",
    "    if ds.loginstatus == \"unrestricted\":\n",
    "        # Dataset has child datasets\n",
    "        if ds.isParent:\n",
    "            df = fetch_child_datasets(ds)\n",
    "            # Save to file\n",
    "            file = os.path.join(out_dir, ds_id + \".csv\")\n",
    "            # df.to_csv(file, index=False)\n",
    "            print(f\"\\t[INFO] Saved to '{file}'\")\n",
    "        else:  # Does not have child datasets\n",
    "            assert len(ds.events) == 1, \"\\t[ERROR] Dataset has more than 1 event!\"\n",
    "            # Add metadata\n",
    "            ds.data[\"Dataset\"] = ds.title\n",
    "            ds.data[\"DOI\"] = ds.doi\n",
    "            ds.data[\"Campaign\"] = ds.events[0].campaign.name\n",
    "            ds.data[\"Site\"] = ds.events[0].label\n",
    "            # Save to file\n",
    "            file = os.path.join(out_dir, ds_id + \".csv\")\n",
    "            # ds.data.to_csv(file, index=False)\n",
    "            print(f\"\\t[INFO] Saved to '{file}'\")\n",
    "    else:\n",
    "        print(f\"\\t[ERROR] Dataset access restricted: '{ds.loginstatus}'\")"
   ]
  },
  {
   "cell_type": "code",
   "execution_count": null,
   "metadata": {},
   "outputs": [],
   "source": []
  },
  {
   "cell_type": "markdown",
   "metadata": {},
   "source": [
    "## Check if all saved files have desired image url column"
   ]
  },
  {
   "cell_type": "code",
   "execution_count": null,
   "metadata": {},
   "outputs": [],
   "source": [
    "# Load all files in output directory\n",
    "files = os.listdir(out_dir)\n",
    "dfs = [pd.read_csv(os.path.join(out_dir, file)) for file in files]\n",
    "# Check if they have the desired column\n",
    "all([has_url_col(df) for df in dfs])"
   ]
  },
  {
   "cell_type": "code",
   "execution_count": null,
   "metadata": {},
   "outputs": [],
   "source": []
  }
 ],
 "metadata": {
  "kernelspec": {
   "display_name": "Python 3.7 (ws)",
   "language": "python",
   "name": "ws"
  },
  "language_info": {
   "codemirror_mode": {
    "name": "ipython",
    "version": 3
   },
   "file_extension": ".py",
   "mimetype": "text/x-python",
   "name": "python",
   "nbconvert_exporter": "python",
   "pygments_lexer": "ipython3",
   "version": "3.7.10"
  }
 },
 "nbformat": 4,
 "nbformat_minor": 4
}
