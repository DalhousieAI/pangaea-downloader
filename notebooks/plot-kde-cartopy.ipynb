{
 "cells": [
  {
   "cell_type": "markdown",
   "metadata": {},
   "source": [
    "**Source:** [Estimating a probability distribution non-parametrically with a kernel density estimation](https://ipython-books.github.io/76-estimating-a-probability-distribution-nonparametrically-with-a-kernel-density-estimation/) ( Uses `scipy.stats.gaussian_kde`)"
   ]
  },
  {
   "cell_type": "code",
   "execution_count": null,
   "metadata": {},
   "outputs": [],
   "source": [
    "import os\n",
    "\n",
    "import cartopy.crs as ccrs\n",
    "import cartopy.feature as cfeature\n",
    "import matplotlib.pyplot as plt\n",
    "import numpy as np\n",
    "import pandas as pd\n",
    "import scipy.stats as st\n",
    "from matplotlib.colors import ListedColormap\n",
    "from sklearn.neighbors import KernelDensity"
   ]
  },
  {
   "cell_type": "markdown",
   "metadata": {},
   "source": [
    "**Original article uses a weather dataset: it contains information about most storms since 1848. A single storm may appear multiple times across several consecutive days.**"
   ]
  },
  {
   "cell_type": "code",
   "execution_count": null,
   "metadata": {},
   "outputs": [],
   "source": [
    "# # www.ncdc.noaa.gov/ibtracs/index.php?name=wmo-data\n",
    "# url = \"https://raw.githubusercontent.com/ipython-books/cookbook-2nd-data/master/Allstorms.ibtracs_wmo.v03r05.csv\"\n",
    "# df = pd.read_csv(url)\n",
    "# df[df.columns[[0, 1, 3, 8, 9]]].head()"
   ]
  },
  {
   "cell_type": "code",
   "execution_count": null,
   "metadata": {},
   "outputs": [],
   "source": [
    "# We use pandas groupby() function to obtain the average location of every storm\n",
    "# dfs = df.groupby('Serial_Num')\n",
    "# pos = dfs[['Latitude', 'Longitude']].mean()\n",
    "# x = pos.Longitude.values\n",
    "# y = pos.Latitude.values\n",
    "# pos.head()"
   ]
  },
  {
   "cell_type": "markdown",
   "metadata": {},
   "source": [
    "## Coordinates of samples from Pangaea\n",
    "We will adapt the code for plotting our image sample locations"
   ]
  },
  {
   "cell_type": "code",
   "execution_count": null,
   "metadata": {},
   "outputs": [],
   "source": [
    "# Load files\n",
    "DATA_DIR = \"../query-outputs/\"\n",
    "files = os.listdir(DATA_DIR)\n",
    "df_list = [pd.read_csv(os.path.join(DATA_DIR, f)) for f in files]\n",
    "print(f\"Total {len(df_list)} files loaded.\")\n",
    "\n",
    "# Check if all files have lat, lon data\n",
    "def has_lat_lon(frame):\n",
    "    cond1 = any([col == \"Latitude\" for col in frame.columns])\n",
    "    cond2 = any([col == \"Longitude\" for col in frame.columns])\n",
    "    return cond1 and cond2\n",
    "\n",
    "\n",
    "print(\"All files have lat/lon columns:\", all([has_lat_lon(df) for df in df_list]))\n",
    "# Join all datasets\n",
    "all_dfs = pd.concat(df_list)\n",
    "\n",
    "# Values for plotting\n",
    "x = all_dfs[\"Longitude\"].dropna().to_numpy()\n",
    "y = all_dfs[\"Latitude\"].dropna().to_numpy()\n",
    "print(\"x.shape:\", x.shape, \"y.shape:\", y.shape)"
   ]
  },
  {
   "cell_type": "markdown",
   "metadata": {},
   "source": [
    "## 1. Scatter plot"
   ]
  },
  {
   "cell_type": "code",
   "execution_count": null,
   "metadata": {},
   "outputs": [],
   "source": [
    "# Transform\n",
    "geo = ccrs.Geodetic()\n",
    "# Projection\n",
    "crs = ccrs.EqualEarth()\n",
    "\n",
    "# We create the map plot.\n",
    "fig = plt.figure(figsize=(25, 8))\n",
    "ax = fig.add_subplot(projection=crs)\n",
    "\n",
    "# We display the world map picture.\n",
    "ax.stock_img()\n",
    "# We display the storm locations.\n",
    "ax.scatter(x, y, color=\"r\", alpha=0.15, transform=geo)\n",
    "ax.set_title(\"Spatial distribution of image samples\")\n",
    "plt.show()"
   ]
  },
  {
   "cell_type": "markdown",
   "metadata": {},
   "source": [
    "## 2. KDE SciPy"
   ]
  },
  {
   "cell_type": "markdown",
   "metadata": {},
   "source": [
    "**Transform the image positions from the geodetic coordinate system (longitude and latitude) into the map's coordinate system**"
   ]
  },
  {
   "cell_type": "code",
   "execution_count": null,
   "metadata": {},
   "outputs": [],
   "source": [
    "h = crs.transform_points(geo, x, y)[:, :2].T\n",
    "h.shape"
   ]
  },
  {
   "cell_type": "markdown",
   "metadata": {},
   "source": [
    "**Now, we perform the kernel density estimation on our (2, N) array.** using `scipy.stats.gaussian_kde`"
   ]
  },
  {
   "cell_type": "code",
   "execution_count": null,
   "metadata": {},
   "outputs": [],
   "source": [
    "kde = st.gaussian_kde(h)"
   ]
  },
  {
   "cell_type": "markdown",
   "metadata": {},
   "source": [
    "**The `gaussian_kde()` routine returned a Python function. To see the results on a map, we need to evaluate this function on a 2D grid spanning the entire map. We create this grid with `meshgrid()`, and we pass the x and y values to the `kde()` function:**"
   ]
  },
  {
   "cell_type": "code",
   "execution_count": null,
   "metadata": {},
   "outputs": [],
   "source": [
    "k = 100\n",
    "# Coordinates of the four corners of the map.\n",
    "x0, x1, y0, y1 = ax.get_extent()\n",
    "# We create the grid.\n",
    "tx, ty = np.meshgrid(np.linspace(x0, x1, 2 * k), np.linspace(y0, y1, k))\n",
    "# We reshape the grid for the kde() function.\n",
    "mesh = np.vstack((tx.ravel(), ty.ravel()))\n",
    "# We evaluate the kde() function on the grid.\n",
    "v = kde(mesh).reshape((k, 2 * k))"
   ]
  },
  {
   "cell_type": "markdown",
   "metadata": {},
   "source": [
    "**Before displaying the KDE heatmap on the map, we need to use a special colormap with a transparent channel. This will allow us to superimpose the heatmap on the stock image:**"
   ]
  },
  {
   "cell_type": "code",
   "execution_count": null,
   "metadata": {},
   "outputs": [],
   "source": [
    "# https://stackoverflow.com/a/37334212/1595060\n",
    "cmap = plt.get_cmap(\"Reds\")\n",
    "my_cmap = cmap(np.arange(cmap.N))\n",
    "my_cmap[:, -1] = np.linspace(0, 1, cmap.N)\n",
    "my_cmap = ListedColormap(my_cmap)"
   ]
  },
  {
   "cell_type": "markdown",
   "metadata": {},
   "source": [
    "**Finally, we display the estimated density with `imshow()` or `contourf()`:**"
   ]
  },
  {
   "cell_type": "code",
   "execution_count": null,
   "metadata": {},
   "outputs": [],
   "source": [
    "fig = plt.figure(figsize=(25, 8))\n",
    "ax = fig.add_subplot(projection=crs)\n",
    "ax.stock_img()\n",
    "\n",
    "# ax.imshow(v, origin='lower', cmap=my_cmap, extent=[x0, x1, y0, y1], interpolation='bilinear')\n",
    "ax.contourf(\n",
    "    tx,\n",
    "    ty,\n",
    "    v,\n",
    "    cmap=my_cmap,\n",
    "    extent=[x0, x1, y0, y1],\n",
    "    levels=np.linspace(0, v.max(), 25),\n",
    "    origin=\"lower\",\n",
    ")\n",
    "# ax.scatter(x, y, color='r', s=5, alpha=0.15, transform=geo)\n",
    "ax.set_title(\"KDE of image sample spatial distribution\")\n",
    "plt.show()"
   ]
  },
  {
   "cell_type": "markdown",
   "metadata": {},
   "source": [
    "### Side by side"
   ]
  },
  {
   "cell_type": "code",
   "execution_count": null,
   "metadata": {},
   "outputs": [],
   "source": [
    "fig = plt.figure(figsize=(25, 8))\n",
    "\n",
    "# KDE plot\n",
    "ax = fig.add_subplot(121, projection=crs)\n",
    "ax.stock_img()\n",
    "ax.set_title(\"KDE plot\", fontsize=20)\n",
    "ax.contourf(\n",
    "    tx,\n",
    "    ty,\n",
    "    v,\n",
    "    cmap=my_cmap,\n",
    "    levels=np.linspace(0, v.max(), 25),\n",
    "    origin=\"lower\",\n",
    "    extent=[x0, x1, y0, y1],\n",
    "    interpolation=\"bilinear\",\n",
    ")\n",
    "# Scatter plot\n",
    "ax = fig.add_subplot(122, projection=crs)\n",
    "ax.stock_img()\n",
    "ax.set_title(\"Scatter plot\", fontsize=20)\n",
    "ax.scatter(x, y, color=\"r\", alpha=0.25, transform=geo)"
   ]
  },
  {
   "cell_type": "markdown",
   "metadata": {},
   "source": [
    "## 3. KDE Sklearn\n",
    "The function below is based on the `kde2()` function from the following article: [Two-dimensional kernel density estimate: comparing scikit-learn and scipy](https://gist.github.com/daleroberts/7a13afed55f3e2388865b0ec94cd80d2)"
   ]
  },
  {
   "cell_type": "code",
   "execution_count": null,
   "metadata": {},
   "outputs": [],
   "source": [
    "def kde_sklearn(x, y, metric=\"euclidean\"):\n",
    "    xy = np.vstack([x, y]).T\n",
    "    # Bandwidth calculation\n",
    "    d = xy.shape[0]\n",
    "    n = xy.shape[1]\n",
    "    bw = (n * (d + 2) / 4.0) ** (-1.0 / (d + 4))  # silverman\n",
    "    # bw = n**(-1./(d+4)) # scott\n",
    "    print(f\"bw: {bw}, metric: {metric}\")\n",
    "    # KDE\n",
    "    kde = KernelDensity(\n",
    "        bandwidth=bw, metric=metric, kernel=\"gaussian\", algorithm=\"ball_tree\"\n",
    "    )\n",
    "    kde.fit(xy)\n",
    "    # Extent\n",
    "    xmin = x.min()\n",
    "    xmax = x.max()\n",
    "    ymin = y.min()\n",
    "    ymax = y.max()\n",
    "    # Mesh grid\n",
    "    X, Y = np.mgrid[xmin:xmax:100j, ymin:ymax:100j]\n",
    "    positions = np.vstack([X.ravel(), Y.ravel()])\n",
    "    # Z heights\n",
    "    Z = np.reshape(np.exp(kde.score_samples(positions.T)), X.shape)\n",
    "    return X, Y, Z"
   ]
  },
  {
   "cell_type": "code",
   "execution_count": null,
   "metadata": {},
   "outputs": [],
   "source": [
    "X, Y, Z = kde_sklearn(x, y, metric=\"euclidean\")\n",
    "X2, Y2, Z2 = kde_sklearn(x, y, metric=\"haversine\")"
   ]
  },
  {
   "cell_type": "markdown",
   "metadata": {},
   "source": [
    "**euclidean**"
   ]
  },
  {
   "cell_type": "code",
   "execution_count": null,
   "metadata": {},
   "outputs": [],
   "source": [
    "fig = plt.figure(figsize=(25, 8))\n",
    "ax = fig.add_subplot(projection=crs)\n",
    "ax.stock_img()\n",
    "ax.imshow(\n",
    "    Z, cmap=my_cmap, extent=[x0, x1, y0, y1], interpolation=\"bilinear\", origin=\"lower\"\n",
    ")\n",
    "# ax.contourf(X, Y, Z, cmap=my_cmap, extent=[x0, x1, y0, y1],\n",
    "#             levels=np.linspace(0, v.max(), 25),\n",
    "#             interpolation='bilinear',\n",
    "#             origin='lower')\n",
    "# ax.scatter(x, y, color='r', alpha=0.25, transform=geo)\n",
    "ax.set_title(\"KDE of image sample spatial distribution\")\n",
    "plt.show()"
   ]
  },
  {
   "cell_type": "markdown",
   "metadata": {},
   "source": [
    "**haversine**"
   ]
  },
  {
   "cell_type": "code",
   "execution_count": null,
   "metadata": {},
   "outputs": [],
   "source": [
    "fig = plt.figure(figsize=(25, 8))\n",
    "ax = fig.add_subplot(projection=crs)\n",
    "ax.stock_img()\n",
    "ax.imshow(\n",
    "    Z2, cmap=my_cmap, extent=[x0, x1, y0, y1], interpolation=\"bilinear\", origin=\"lower\"\n",
    ")\n",
    "# ax.contourf(X2, Y2, Z2, cmap=my_cmap, extent=[x0, x1, y0, y1],\n",
    "#             levels=np.linspace(0, v.max(), 25),\n",
    "#             interpolation='bilinear',\n",
    "#             origin='lower')\n",
    "# ax.scatter(x, y, color='r', alpha=0.25, transform=geo)\n",
    "ax.set_title(\"KDE of image sample spatial distribution\")\n",
    "plt.show()"
   ]
  },
  {
   "cell_type": "code",
   "execution_count": null,
   "metadata": {},
   "outputs": [],
   "source": []
  }
 ],
 "metadata": {
  "kernelspec": {
   "display_name": "Python 3.7 (ws)",
   "language": "python",
   "name": "ws"
  },
  "language_info": {
   "codemirror_mode": {
    "name": "ipython",
    "version": 3
   },
   "file_extension": ".py",
   "mimetype": "text/x-python",
   "name": "python",
   "nbconvert_exporter": "python",
   "pygments_lexer": "ipython3",
   "version": "3.7.10"
  }
 },
 "nbformat": 4,
 "nbformat_minor": 4
}
