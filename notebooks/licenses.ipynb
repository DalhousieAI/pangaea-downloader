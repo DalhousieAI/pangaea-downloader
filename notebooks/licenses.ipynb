{
 "cells": [
  {
   "cell_type": "code",
   "execution_count": null,
   "id": "62c1f51a",
   "metadata": {},
   "outputs": [],
   "source": [
    "import pandas as pd\n",
    "import requests\n",
    "from bs4 import BeautifulSoup\n",
    "from tqdm.auto import tqdm"
   ]
  },
  {
   "cell_type": "markdown",
   "id": "3164bb1f",
   "metadata": {},
   "source": [
    "### Load list of dataset IDs"
   ]
  },
  {
   "cell_type": "code",
   "execution_count": null,
   "id": "45d08b11",
   "metadata": {},
   "outputs": [],
   "source": [
    "file = \"../pangaea_2022-01-27.csv\"\n",
    "df = pd.read_csv(file, low_memory=False)\n",
    "ds_ids = [ds_name.split(\"-\")[-1] for ds_name in df.dataset.unique()]\n",
    "print(f\"Total {len(ds_ids)} dataset licenses to fetch.\")"
   ]
  },
  {
   "cell_type": "markdown",
   "id": "ea068d31",
   "metadata": {},
   "source": [
    "### Functions to extract license info"
   ]
  },
  {
   "cell_type": "code",
   "execution_count": null,
   "id": "771e6030",
   "metadata": {},
   "outputs": [],
   "source": [
    "def get_dataset_url(ds_id):\n",
    "    \"\"\"Return dataset URL given six digit dataset ID.\"\"\"\n",
    "    return f\"https://doi.pangaea.de/10.1594/PANGAEA.{ds_id}\""
   ]
  },
  {
   "cell_type": "code",
   "execution_count": null,
   "id": "44647ae6",
   "metadata": {},
   "outputs": [],
   "source": [
    "def get_license_info(url, verbose=False):\n",
    "    \"\"\"Return a dictionary with license information given the dataset URL.\"\"\"\n",
    "    # Make a request to the URL and parse the html\n",
    "    resp = requests.get(url)\n",
    "    soup = BeautifulSoup(resp.text, \"lxml\")\n",
    "    # Get the tag containing the license info\n",
    "    license_tag = soup.find(\"a\", attrs={\"rel\": \"license\"})\n",
    "    if license_tag is None:\n",
    "        return\n",
    "    # Extract components from tag\n",
    "    license_info = {}\n",
    "    license_info[\"url\"] = license_tag[\"href\"]\n",
    "    license_info[\"text\"] = license_tag.text\n",
    "    return license_info"
   ]
  },
  {
   "cell_type": "markdown",
   "id": "3e605414",
   "metadata": {},
   "source": [
    "### Scrape license information for each dataset"
   ]
  },
  {
   "cell_type": "code",
   "execution_count": null,
   "id": "b74f5b63",
   "metadata": {},
   "outputs": [],
   "source": [
    "license_list = []\n",
    "for ds_id in tqdm(ds_ids):\n",
    "    ds_url = get_dataset_url(ds_id)\n",
    "    info = get_license_info(ds_url)\n",
    "    if info is None:\n",
    "        info = {\"url\": None, \"text\": None}\n",
    "    info[\"id\"] = \"pangaea-\" + ds_id\n",
    "    license_list.append(info)"
   ]
  },
  {
   "cell_type": "markdown",
   "id": "ae116d94",
   "metadata": {},
   "source": [
    "### Save license info to file"
   ]
  },
  {
   "cell_type": "code",
   "execution_count": null,
   "id": "952c435c",
   "metadata": {},
   "outputs": [],
   "source": [
    "license_df = pd.DataFrame(license_list)\n",
    "license_df.to_csv(\"../dataset-licenses.csv\", index=False)\n",
    "print(f\"License information scrapped for {len(license_df)} datasets.\")"
   ]
  },
  {
   "cell_type": "code",
   "execution_count": null,
   "id": "84aea654",
   "metadata": {},
   "outputs": [],
   "source": []
  }
 ],
 "metadata": {
  "kernelspec": {
   "display_name": "Python 3.8 (ws)",
   "language": "python",
   "name": "ws"
  },
  "language_info": {
   "codemirror_mode": {
    "name": "ipython",
    "version": 3
   },
   "file_extension": ".py",
   "mimetype": "text/x-python",
   "name": "python",
   "nbconvert_exporter": "python",
   "pygments_lexer": "ipython3",
   "version": "3.8.12"
  }
 },
 "nbformat": 4,
 "nbformat_minor": 5
}
