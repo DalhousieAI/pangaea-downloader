{
 "cells": [
  {
   "cell_type": "code",
   "execution_count": null,
   "id": "ecffecee",
   "metadata": {},
   "outputs": [],
   "source": [
    "import os\n",
    "\n",
    "import pandas as pd\n",
    "import requests"
   ]
  },
  {
   "cell_type": "markdown",
   "id": "0f6830be",
   "metadata": {},
   "source": [
    "### Load file and get dataset IDs"
   ]
  },
  {
   "cell_type": "code",
   "execution_count": null,
   "id": "cc960ace",
   "metadata": {},
   "outputs": [],
   "source": [
    "file = \"../pangaea_2022-01-02_filtered_subsampled-1.25m-1200-1000_remove-core-surf.csv\"\n",
    "pangaea_df = pd.read_csv(file, low_memory=False)\n",
    "\n",
    "# Get all dataset IDs\n",
    "ds_ids = [dataset.split(\"-\")[-1] for dataset in pangaea_df.dataset.unique()]"
   ]
  },
  {
   "cell_type": "markdown",
   "id": "06e25b51",
   "metadata": {},
   "source": [
    "### Get BibTex Citation"
   ]
  },
  {
   "cell_type": "code",
   "execution_count": null,
   "id": "9e377332",
   "metadata": {},
   "outputs": [],
   "source": [
    "def get_bibtex(ds_id: str, verbose=False) -> str:\n",
    "    \"\"\"Get the BibTex Citation of a Pangaea dataset using the dataset ID.\"\"\"\n",
    "    bib_url = f\"https://doi.pangaea.de/10.1594/PANGAEA.{ds_id}?format=citation_bibtex\"\n",
    "    resp = requests.get(bib_url)\n",
    "    if verbose:\n",
    "        print(\"\\tStatus code:\", resp.status_code)\n",
    "    return resp.text"
   ]
  },
  {
   "cell_type": "markdown",
   "id": "a8369d29",
   "metadata": {},
   "source": [
    "### Write to file"
   ]
  },
  {
   "cell_type": "code",
   "execution_count": null,
   "id": "dec9987d",
   "metadata": {},
   "outputs": [],
   "source": [
    "citations_file = \"../pangaea-citations.bib\"\n",
    "with open(citations_file, \"w\") as f:\n",
    "    for i, ds_id in enumerate(ds_ids):\n",
    "        bibtex = get_bibtex(ds_id)\n",
    "        f.write(bibtex)\n",
    "        print(f\"{(i+1)}/{len(ds_ids)} complete.\")\n",
    "\n",
    "print(f\"All dataset BibTex citations written to file: '{citations_file}'\")"
   ]
  },
  {
   "cell_type": "code",
   "execution_count": null,
   "id": "11d1db26",
   "metadata": {},
   "outputs": [],
   "source": []
  }
 ],
 "metadata": {
  "kernelspec": {
   "display_name": "Python 3.8 (ws)",
   "language": "python",
   "name": "ws"
  },
  "language_info": {
   "codemirror_mode": {
    "name": "ipython",
    "version": 3
   },
   "file_extension": ".py",
   "mimetype": "text/x-python",
   "name": "python",
   "nbconvert_exporter": "python",
   "pygments_lexer": "ipython3",
   "version": "3.8.12"
  }
 },
 "nbformat": 4,
 "nbformat_minor": 5
}
