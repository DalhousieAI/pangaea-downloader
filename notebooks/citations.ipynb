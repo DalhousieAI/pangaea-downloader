{
 "cells": [
  {
   "cell_type": "code",
   "execution_count": null,
   "id": "ecffecee",
   "metadata": {},
   "outputs": [],
   "source": [
    "import os\n",
    "import pickle\n",
    "\n",
    "import pandas as pd\n",
    "import requests"
   ]
  },
  {
   "cell_type": "code",
   "execution_count": null,
   "id": "6f622105",
   "metadata": {},
   "outputs": [],
   "source": [
    "pangaea_file = \"../full-dataset/pangaea_2022-01-02_filtered_subsampled-1.25m-1200-1000_remove-core-surf.csv\"\n",
    "citations_file = \"../pangaea-citations.bib\"\n",
    "mappings_file = \"../bibtex-key-id-mappings.pickle\""
   ]
  },
  {
   "cell_type": "markdown",
   "id": "19340e91",
   "metadata": {},
   "source": [
    "#### Functions"
   ]
  },
  {
   "cell_type": "code",
   "execution_count": null,
   "id": "9e377332",
   "metadata": {},
   "outputs": [],
   "source": [
    "def get_bibtex(ds_id: str, verbose=False) -> str:\n",
    "    \"\"\"Get the BibTex Citation of a Pangaea dataset using the dataset ID.\"\"\"\n",
    "    bib_url = f\"https://doi.pangaea.de/10.1594/PANGAEA.{ds_id}?format=citation_bibtex\"\n",
    "    resp = requests.get(bib_url)\n",
    "    if verbose:\n",
    "        print(\"\\tStatus code:\", resp.status_code)\n",
    "    return resp.text"
   ]
  },
  {
   "cell_type": "code",
   "execution_count": null,
   "id": "03fd75aa",
   "metadata": {},
   "outputs": [],
   "source": [
    "def generate_citations_file(\n",
    "    pangaea_dataset: str, citations_file: str, mappings_file: str\n",
    ") -> None:\n",
    "    \"\"\"\n",
    "    Generate a text file with BibTex citations for all Pangaea datasets in the `pangaea_dataset` CSV file.\n",
    "\n",
    "    Parameters\n",
    "    ----------\n",
    "    pangaea_dataset : str\n",
    "        The path to the CSV file containing the full Pangaea Benthic Image Dataset.\n",
    "        It should contain a column called ``\"datasets\"`` with the dataset IDs.\n",
    "\n",
    "    citations_file : str\n",
    "        The path to the output bib file where all the citations will be written.\n",
    "\n",
    "    mappings_file : str\n",
    "        The path to the output pickle file to write the dataset ID to BibTex citation key mappings.\n",
    "    \"\"\"\n",
    "    pangaea_df = pd.read_csv(pangaea_dataset, low_memory=False)\n",
    "    ds_ids = [dataset.split(\"-\")[-1] for dataset in pangaea_df.dataset.unique()]\n",
    "\n",
    "    # Get citations\n",
    "    citations = []\n",
    "    mappings = dict()\n",
    "    print(f\"[INFO] Processing {len(ds_ids)} dataset citations...\")\n",
    "    for i, ds_id in enumerate(ds_ids):\n",
    "        # Get BibTex citation\n",
    "        bibtex = get_bibtex(ds_id)\n",
    "        citations.append(bibtex)\n",
    "        # Extract BibTex tag\n",
    "        tag = bibtex.split(\"{\")[1].split(\",\")[0]\n",
    "        mappings[int(ds_id)] = tag\n",
    "        print(f\"{(i+1)}/{len(ds_ids)} complete.\")\n",
    "\n",
    "    # Write citations to file\n",
    "    with open(citations_file, \"w\") as f:\n",
    "        f.writelines(citations)\n",
    "    print(f\"[INFO] All dataset BibTex citations written to file: '{citations_file}'\")\n",
    "    # Write mappings to file\n",
    "    pickle.dump(mappings, open(mappings_file, \"wb\"))\n",
    "    print(\n",
    "        f\"[INFO] All dataset ID to BibTex tag mappings written to file: '{citations_file}'\"\n",
    "    )"
   ]
  },
  {
   "cell_type": "markdown",
   "id": "0dc7625d",
   "metadata": {},
   "source": [
    "#### Run program and generate files"
   ]
  },
  {
   "cell_type": "code",
   "execution_count": null,
   "id": "39302626",
   "metadata": {},
   "outputs": [],
   "source": [
    "generate_citations_file(pangaea_file, citations_file, mappings_file)"
   ]
  },
  {
   "cell_type": "markdown",
   "id": "53ab4f34",
   "metadata": {},
   "source": [
    "#### Check files"
   ]
  },
  {
   "cell_type": "code",
   "execution_count": null,
   "id": "11d1db26",
   "metadata": {},
   "outputs": [],
   "source": [
    "! cat ../pangaea-citations.bib"
   ]
  },
  {
   "cell_type": "code",
   "execution_count": null,
   "id": "f73ef231",
   "metadata": {},
   "outputs": [],
   "source": [
    "pickle.load(open(mappings_file, \"rb\"))"
   ]
  },
  {
   "cell_type": "code",
   "execution_count": null,
   "id": "4c8f4dbf",
   "metadata": {},
   "outputs": [],
   "source": []
  }
 ],
 "metadata": {
  "kernelspec": {
   "display_name": "Python 3.8 (ws)",
   "language": "python",
   "name": "ws"
  },
  "language_info": {
   "codemirror_mode": {
    "name": "ipython",
    "version": 3
   },
   "file_extension": ".py",
   "mimetype": "text/x-python",
   "name": "python",
   "nbconvert_exporter": "python",
   "pygments_lexer": "ipython3",
   "version": "3.8.12"
  }
 },
 "nbformat": 4,
 "nbformat_minor": 5
}
