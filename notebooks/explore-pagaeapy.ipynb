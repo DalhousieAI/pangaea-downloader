{
 "cells": [
  {
   "cell_type": "markdown",
   "metadata": {},
   "source": [
    "# Exploring the Pangaea Python API"
   ]
  },
  {
   "cell_type": "code",
   "execution_count": null,
   "metadata": {},
   "outputs": [],
   "source": [
    "from pprint import pprint\n",
    "\n",
    "import pangaeapy"
   ]
  },
  {
   "cell_type": "code",
   "execution_count": null,
   "metadata": {},
   "outputs": [],
   "source": [
    "[item for item in dir(pangaeapy) if not item.startswith(\"__\")]"
   ]
  },
  {
   "cell_type": "markdown",
   "metadata": {},
   "source": [
    "## Checking out the `PanDataSet` class\n",
    "Exploring the following dataset: https://doi.pangaea.de/10.1594/PANGAEA.875148\n",
    "\n",
    "**Issue:** The webpage for the dataset specifies the size to be 1719 data points. But the dataset only has 573 rows."
   ]
  },
  {
   "cell_type": "code",
   "execution_count": null,
   "metadata": {},
   "outputs": [],
   "source": [
    "# Fetch dataset using doi\n",
    "ds = pangaeapy.PanDataSet(\"10.1594/PANGAEA.875148\")\n",
    "# Examine attributes\n",
    "df = ds.data\n",
    "print(ds.title)\n",
    "print(\"Authors:\", [auth.fullname for auth in ds.authors])\n",
    "print(f\"{df.shape[0]} rows x {df.shape[1]} columns\")\n",
    "df.head()"
   ]
  },
  {
   "cell_type": "code",
   "execution_count": null,
   "metadata": {},
   "outputs": [],
   "source": [
    "print(ds.citation)"
   ]
  },
  {
   "cell_type": "markdown",
   "metadata": {},
   "source": [
    "Checking another one using the dataset id only (dont need full doi)"
   ]
  },
  {
   "cell_type": "code",
   "execution_count": null,
   "metadata": {},
   "outputs": [],
   "source": [
    "# Fetch dataset using dataset ID\n",
    "ds = pangaeapy.PanDataSet(371064)\n",
    "# Examine attributes\n",
    "print(ds.title)\n",
    "print(\"Authors:\", [auth.fullname for auth in ds.authors])\n",
    "print(f\"{ds.data.shape[0]} rows x {ds.data.shape[1]} columns\")"
   ]
  },
  {
   "cell_type": "code",
   "execution_count": null,
   "metadata": {},
   "outputs": [],
   "source": [
    "ds.isParent"
   ]
  },
  {
   "cell_type": "code",
   "execution_count": null,
   "metadata": {},
   "outputs": [],
   "source": [
    "ds.data"
   ]
  },
  {
   "cell_type": "code",
   "execution_count": null,
   "metadata": {},
   "outputs": [],
   "source": [
    "print(ds.doi)"
   ]
  },
  {
   "cell_type": "markdown",
   "metadata": {},
   "source": [
    "The dataframe for this dataset is empty and if we check the dataset on the Pangaea website, we can see that the dataset size is 'unknown'. After clicking 'Download dataset' we can see that the images are hosted on the website on several pages, rather than providing the image urls in a table format."
   ]
  },
  {
   "cell_type": "code",
   "execution_count": null,
   "metadata": {},
   "outputs": [],
   "source": [
    "print(ds.citation)"
   ]
  },
  {
   "cell_type": "markdown",
   "metadata": {},
   "source": [
    "## Checking out the `PanQuery` class"
   ]
  },
  {
   "cell_type": "code",
   "execution_count": null,
   "metadata": {},
   "outputs": [],
   "source": [
    "# Search Pangaea using query string\n",
    "query = pangaeapy.PanQuery(query=\"seafloor images\", limit=999)\n",
    "print(\"Total search results:\", query.totalcount)\n",
    "print(\"Results returned:\", len(query.result))"
   ]
  },
  {
   "cell_type": "markdown",
   "metadata": {},
   "source": [
    "As we can see desipte 596 results being available, `PanQuery` returns a max of 500 results"
   ]
  },
  {
   "cell_type": "code",
   "execution_count": null,
   "metadata": {},
   "outputs": [],
   "source": [
    "query.result[0].keys()"
   ]
  },
  {
   "cell_type": "markdown",
   "metadata": {},
   "source": [
    "### Examining result items\n",
    "Each of the items in the results list is a dictionary containing:\n",
    "- dataset **URI** (doi)\n",
    "- TF-IDF **score** (match with query string)\n",
    "- **type** which is either 'parent' or 'child'\n",
    "- **position** the result index\n",
    "- **html** with other useful info such as the dataset size, citation etc."
   ]
  },
  {
   "cell_type": "code",
   "execution_count": null,
   "metadata": {},
   "outputs": [],
   "source": [
    "result = query.result[0]\n",
    "result"
   ]
  },
  {
   "cell_type": "code",
   "execution_count": null,
   "metadata": {},
   "outputs": [],
   "source": [
    "for result in query.result:\n",
    "    print(\n",
    "        f\"Index: [{result['position']}], DOI: {result['URI']}, Type: {result['type']}, Score: {result['score']}\"\n",
    "    )\n",
    "    pprint(result[\"html\"])\n",
    "    print(\"-\" * 125)"
   ]
  },
  {
   "cell_type": "code",
   "execution_count": null,
   "metadata": {},
   "outputs": [],
   "source": []
  }
 ],
 "metadata": {
  "kernelspec": {
   "display_name": "Python 3.7 (ws)",
   "language": "python",
   "name": "ws"
  },
  "language_info": {
   "codemirror_mode": {
    "name": "ipython",
    "version": 3
   },
   "file_extension": ".py",
   "mimetype": "text/x-python",
   "name": "python",
   "nbconvert_exporter": "python",
   "pygments_lexer": "ipython3",
   "version": "3.7.10"
  }
 },
 "nbformat": 4,
 "nbformat_minor": 4
}
