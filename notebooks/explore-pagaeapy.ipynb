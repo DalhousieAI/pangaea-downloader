{
 "cells": [
  {
   "cell_type": "markdown",
   "metadata": {},
   "source": [
    "# Exploring the Pangaea Python API"
   ]
  },
  {
   "cell_type": "code",
   "execution_count": null,
   "metadata": {},
   "outputs": [],
   "source": [
    "from pprint import pprint\n",
    "\n",
    "import pangaeapy"
   ]
  },
  {
   "cell_type": "markdown",
   "metadata": {},
   "source": [
    "## Checking out the `PanDataSet` class"
   ]
  },
  {
   "cell_type": "code",
   "execution_count": null,
   "metadata": {},
   "outputs": [],
   "source": [
    "# Fetch dataset using doi\n",
    "ds = pangaeapy.PanDataSet(\"10.1594/PANGAEA.618833\")\n",
    "print(ds.citation)\n",
    "print(f\"\\nData shape: {ds.data.shape[0]} rows x {ds.data.shape[1]} columns\")\n",
    "ds.data.head()"
   ]
  },
  {
   "cell_type": "markdown",
   "metadata": {},
   "source": [
    "#### `PanDataSet` object attributes\n",
    "- The campaign/cruise of the dataset is `ds.events[0].campaign.name`\n",
    "\n",
    "- The site/event/station/deployment is `ds.events[0].label`"
   ]
  },
  {
   "cell_type": "code",
   "execution_count": null,
   "metadata": {},
   "outputs": [],
   "source": [
    "print(\"Dataset id:\", ds.id)\n",
    "print(\"Dataset uri:\", ds.uri)\n",
    "print(\"Dataset doi:\", ds.doi)\n",
    "print(\"Dataset title:\", ds.title)\n",
    "print(\"Dataset year:\", ds.year)\n",
    "print(\"Dataset authors:\", [auth.fullname for auth in ds.authors])\n",
    "print(\"Dataset mintimeextent:\", ds.mintimeextent)\n",
    "print(\"Dataset maxtimeextent:\", ds.maxtimeextent)\n",
    "print(\"Dataset loginstatus:\", ds.loginstatus)\n",
    "print(\"Dataset isParent:\", ds.isParent)\n",
    "print(\"Dataset children:\", ds.children)\n",
    "print(\"Dataset moratorium:\", ds.moratorium)\n",
    "print(\"Dataset datastatus:\", ds.datastatus)\n",
    "print(\"Dataset registrystatus:\", ds.registrystatus)"
   ]
  },
  {
   "cell_type": "markdown",
   "metadata": {},
   "source": [
    "#### Dataset `PanEvent` object attributes\n",
    "Most often datasets have one event in the events list"
   ]
  },
  {
   "cell_type": "code",
   "execution_count": null,
   "metadata": {},
   "outputs": [],
   "source": [
    "ds.events"
   ]
  },
  {
   "cell_type": "code",
   "execution_count": null,
   "metadata": {},
   "outputs": [],
   "source": [
    "print(\"Event basis:\", ds.events[0].basis)\n",
    "print(\"Event datetime:\", ds.events[0].datetime)\n",
    "print(\"Event datetime2:\", ds.events[0].datetime2)\n",
    "print(\"Event device:\", ds.events[0].device)\n",
    "print(\"Event label:\", ds.events[0].label)\n",
    "print(\"Event location:\", ds.events[0].location)\n",
    "print(\"Event latitude:\", ds.events[0].latitude)\n",
    "print(\"Event latitude2:\", ds.events[0].latitude2)\n",
    "print(\"Event longitude:\", ds.events[0].longitude)\n",
    "print(\"Event longitude2:\", ds.events[0].longitude2)\n",
    "print(\"Event elevation:\", ds.events[0].elevation)"
   ]
  },
  {
   "cell_type": "markdown",
   "metadata": {},
   "source": [
    "#### Dataset event `PanCampaign` object attributes"
   ]
  },
  {
   "cell_type": "code",
   "execution_count": null,
   "metadata": {},
   "outputs": [],
   "source": [
    "if ds.events[0].campaign is None:\n",
    "    print(\"NO campaign info!\")\n",
    "else:\n",
    "    print(\"Event campaign BSHID:\", ds.events[0].campaign.BSHID)\n",
    "    print(\"Event campaign start:\", ds.events[0].campaign.start)\n",
    "    print(\"Event campaign startlocation:\", ds.events[0].campaign.startlocation)\n",
    "    print(\"Event campaign end:\", ds.events[0].campaign.end)\n",
    "    print(\"Event campaign endlocation:\", ds.events[0].campaign.endlocation)\n",
    "    print(\"Event campaign expeditionprogram:\", ds.events[0].campaign.expeditionprogram)\n",
    "    print(\"Event campaign name:\", ds.events[0].campaign.name)\n",
    "    print(\"Event campaign URI:\", ds.events[0].campaign.URI)"
   ]
  },
  {
   "cell_type": "markdown",
   "metadata": {},
   "source": [
    "#### Dataset `PanParam` object attributes"
   ]
  },
  {
   "cell_type": "code",
   "execution_count": null,
   "metadata": {},
   "outputs": [],
   "source": [
    "ds.params"
   ]
  },
  {
   "cell_type": "code",
   "execution_count": null,
   "metadata": {},
   "outputs": [],
   "source": [
    "# DataSet Parameters\n",
    "for key in ds.params.keys():\n",
    "    print(f\"'{key}': {ds.params[key]}\")\n",
    "    print(f\"\\t{key} id:\", ds.params[key].id)\n",
    "    print(f\"\\t{key} name:\", ds.params[key].name)\n",
    "    print(f\"\\t{key} shortName:\", ds.params[key].shortName)\n",
    "    print(f\"\\t{key} synonym:\", ds.params[key].synonym)\n",
    "    print(f\"\\t{key} type:\", ds.params[key].type)\n",
    "    print(f\"\\t{key} source:\", ds.params[key].source)\n",
    "    print(f\"\\t{key} unit:\", ds.params[key].unit)\n",
    "    print(f\"\\t{key} format:\", ds.params[key].format)\n",
    "    print(f\"\\t{key} terms:\", ds.params[key].terms)"
   ]
  },
  {
   "cell_type": "markdown",
   "metadata": {},
   "source": [
    "#### Checking another one using the dataset id only (dont need full doi)"
   ]
  },
  {
   "cell_type": "code",
   "execution_count": null,
   "metadata": {},
   "outputs": [],
   "source": [
    "# Fetch dataset using dataset ID\n",
    "ds = pangaeapy.PanDataSet(371064)\n",
    "print(ds.citation)\n",
    "print(f\"\\nData shape: {ds.data.shape[0]} rows x {ds.data.shape[1]} columns\")\n",
    "ds.data.head()"
   ]
  },
  {
   "cell_type": "code",
   "execution_count": null,
   "metadata": {},
   "outputs": [],
   "source": [
    "ds.isParent"
   ]
  },
  {
   "cell_type": "code",
   "execution_count": null,
   "metadata": {},
   "outputs": [],
   "source": [
    "ds.data"
   ]
  },
  {
   "cell_type": "code",
   "execution_count": null,
   "metadata": {},
   "outputs": [],
   "source": [
    "print(ds.doi)"
   ]
  },
  {
   "cell_type": "markdown",
   "metadata": {},
   "source": [
    "The dataframe for this dataset is empty and if we check the dataset on the Pangaea website, we can see that the dataset size is 'unknown'. After clicking 'Download dataset' we can see that the images are hosted on the website on several pages, rather than providing the image urls in a table format."
   ]
  },
  {
   "cell_type": "markdown",
   "metadata": {},
   "source": [
    "## Checking out the `PanQuery` class"
   ]
  },
  {
   "cell_type": "code",
   "execution_count": null,
   "metadata": {},
   "outputs": [],
   "source": [
    "# Search Pangaea using query string\n",
    "query = pangaeapy.PanQuery(query=\"seafloor images\", limit=999)\n",
    "print(\"Total search results:\", query.totalcount)\n",
    "print(\"Results returned:\", len(query.result))"
   ]
  },
  {
   "cell_type": "markdown",
   "metadata": {},
   "source": [
    "As we can see desipte 596 results being available, `PanQuery` returns a max of 500 results"
   ]
  },
  {
   "cell_type": "code",
   "execution_count": null,
   "metadata": {},
   "outputs": [],
   "source": [
    "query.result[0].keys()"
   ]
  },
  {
   "cell_type": "markdown",
   "metadata": {},
   "source": [
    "### Examining result items\n",
    "Each of the items in the results list is a dictionary containing:\n",
    "- dataset **URI** (doi)\n",
    "- TF-IDF **score** (match with query string)\n",
    "- **type** which is either 'parent' or 'child'\n",
    "- **position** the result index\n",
    "- **html** with other useful info such as the dataset size, citation etc."
   ]
  },
  {
   "cell_type": "code",
   "execution_count": null,
   "metadata": {},
   "outputs": [],
   "source": [
    "result = query.result[0]\n",
    "result"
   ]
  },
  {
   "cell_type": "code",
   "execution_count": null,
   "metadata": {},
   "outputs": [],
   "source": [
    "for result in query.result:\n",
    "    print(\n",
    "        f\"Index: [{result['position']}], DOI: {result['URI']}, Type: {result['type']}, Score: {result['score']}\"\n",
    "    )\n",
    "    pprint(result[\"html\"])\n",
    "    print(\"-\" * 125)"
   ]
  },
  {
   "cell_type": "code",
   "execution_count": null,
   "metadata": {},
   "outputs": [],
   "source": []
  }
 ],
 "metadata": {
  "kernelspec": {
   "display_name": "Python 3.7 (ws)",
   "language": "python",
   "name": "ws"
  },
  "language_info": {
   "codemirror_mode": {
    "name": "ipython",
    "version": 3
   },
   "file_extension": ".py",
   "mimetype": "text/x-python",
   "name": "python",
   "nbconvert_exporter": "python",
   "pygments_lexer": "ipython3",
   "version": "3.7.10"
  }
 },
 "nbformat": 4,
 "nbformat_minor": 4
}
