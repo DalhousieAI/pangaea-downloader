{
 "cells": [
  {
   "cell_type": "markdown",
   "metadata": {},
   "source": [
    "# Download datasets using `PanQuery` search"
   ]
  },
  {
   "cell_type": "code",
   "execution_count": null,
   "metadata": {},
   "outputs": [],
   "source": [
    "import os\n",
    "import sys\n",
    "\n",
    "import pandas as pd\n",
    "import pangaeapy\n",
    "\n",
    "sys.path.append(\"..\")\n",
    "from pangaea_downloader import utilz"
   ]
  },
  {
   "cell_type": "markdown",
   "metadata": {},
   "source": [
    "## 1. Search Pangaea"
   ]
  },
  {
   "cell_type": "code",
   "execution_count": null,
   "metadata": {},
   "outputs": [],
   "source": [
    "# Make sure output directory exists\n",
    "out_dir = \"../query-outputs\"\n",
    "os.makedirs(out_dir, exist_ok=True)"
   ]
  },
  {
   "cell_type": "code",
   "execution_count": null,
   "metadata": {},
   "outputs": [],
   "source": [
    "# New function exceeds max 500 search result limit previously faced\n",
    "def search_pangaea(query=\"seabed photographs\", n_results=999):\n",
    "    offset = 0\n",
    "    results = []\n",
    "    while True:\n",
    "        pq = pangaeapy.PanQuery(query=query, limit=n_results, offset=offset)\n",
    "        results.extend(pq.result)\n",
    "        offset += len(pq.result)\n",
    "        if len(results) >= pq.totalcount:\n",
    "            break\n",
    "    # Sanity check\n",
    "    assert len(results) == pq.totalcount\n",
    "    return results"
   ]
  },
  {
   "cell_type": "code",
   "execution_count": null,
   "metadata": {},
   "outputs": [],
   "source": [
    "# Run search\n",
    "results = search_pangaea(query=\"seabed photographs\", n_results=999)\n",
    "print(\"Number of results returned:\", len(results))"
   ]
  },
  {
   "cell_type": "markdown",
   "metadata": {},
   "source": [
    "## 2. Analyze results"
   ]
  },
  {
   "cell_type": "markdown",
   "metadata": {},
   "source": [
    "**Check if there are any duplicate results**"
   ]
  },
  {
   "cell_type": "code",
   "execution_count": null,
   "metadata": {},
   "outputs": [],
   "source": [
    "# Get DOIs for each result\n",
    "result_dois = [result[\"URI\"] for result in results]\n",
    "# Number of dois in result should equal number of unique dois in result\n",
    "if len(result_dois) == len(set(result_dois)):\n",
    "    print(\"There are no duplicate results.\")"
   ]
  },
  {
   "cell_type": "markdown",
   "metadata": {},
   "source": [
    "## 3. Fetch result datasets"
   ]
  },
  {
   "cell_type": "code",
   "execution_count": null,
   "metadata": {},
   "outputs": [],
   "source": [
    "for i, result in enumerate(results):\n",
    "    # Extract result information\n",
    "    citation, url, size, is_parent = utilz.get_result_info(result)\n",
    "    ds_id = result[\"URI\"].split(\"PANGAEA.\")[-1]\n",
    "    print(f\"[{i+1}] Loading dataset: '{citation}'\")\n",
    "\n",
    "    # ------------- ASSESS DATASET TYPE ------------- #\n",
    "    df = None\n",
    "    # Video dataset (ignore)\n",
    "    if \"bytes\" in size:\n",
    "        print(\"\\t[WARNING] VIDEO dataset. Skipping...\")\n",
    "        continue\n",
    "\n",
    "    # Paginated images (scrape urls and metadata)\n",
    "    elif \"unknown\" == size:\n",
    "        df = utilz.scrape_images(url)\n",
    "\n",
    "    # Parent dataset (fetch child datasets)\n",
    "    elif \"datasets\" in size:\n",
    "        df = utilz.fetch_child_datasets(url)\n",
    "\n",
    "    # Tabular dataset (fetch and save)\n",
    "    elif \"data points\" in size:\n",
    "        df = utilz.fetch_dataset(url)\n",
    "\n",
    "    # ----------------- SAVE TO FILE ----------------- #\n",
    "    if df is None:\n",
    "        continue\n",
    "    else:\n",
    "        f_name = ds_id + \".csv\"\n",
    "        path = os.path.join(out_dir, f_name)\n",
    "        # df.to_csv(path, index=False)\n",
    "        print(f\"\\t[INFO] Saved to '{path}'\")\n",
    "        n_downloads += 1\n",
    "print(f\"COMPLETE! Total files downloaded: {n_downloads}\")"
   ]
  },
  {
   "cell_type": "markdown",
   "metadata": {},
   "source": [
    "## 4. Check if all saved files have desired image url column"
   ]
  },
  {
   "cell_type": "code",
   "execution_count": null,
   "metadata": {},
   "outputs": [],
   "source": [
    "# Load all files in output directory\n",
    "files = os.listdir(out_dir)\n",
    "dfs = [pd.read_csv(os.path.join(out_dir, file)) for file in files]\n",
    "# Check if they have the desired column\n",
    "if all([utilz.has_url_col(df) for df in dfs]):\n",
    "    print(\"All ddownloaded files have URL column\")"
   ]
  },
  {
   "cell_type": "code",
   "execution_count": null,
   "metadata": {},
   "outputs": [],
   "source": []
  }
 ],
 "metadata": {
  "kernelspec": {
   "display_name": "Python 3.7 (ws)",
   "language": "python",
   "name": "ws"
  },
  "language_info": {
   "codemirror_mode": {
    "name": "ipython",
    "version": 3
   },
   "file_extension": ".py",
   "mimetype": "text/x-python",
   "name": "python",
   "nbconvert_exporter": "python",
   "pygments_lexer": "ipython3",
   "version": "3.7.10"
  }
 },
 "nbformat": 4,
 "nbformat_minor": 4
}
