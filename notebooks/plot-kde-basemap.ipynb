{
 "cells": [
  {
   "cell_type": "code",
   "execution_count": null,
   "metadata": {},
   "outputs": [],
   "source": [
    "import os\n",
    "\n",
    "import cartopy\n",
    "import matplotlib.pyplot as plt\n",
    "import numpy as np\n",
    "import pandas as pd\n",
    "import seaborn as sns\n",
    "from mpl_toolkits.basemap import Basemap\n",
    "from scipy import stats\n",
    "from sklearn.datasets import fetch_species_distributions, make_blobs\n",
    "from sklearn.neighbors import KernelDensity\n",
    "\n",
    "%matplotlib inline"
   ]
  },
  {
   "cell_type": "markdown",
   "metadata": {},
   "source": [
    "## Load data"
   ]
  },
  {
   "cell_type": "code",
   "execution_count": null,
   "metadata": {},
   "outputs": [],
   "source": [
    "DATA_DIR = \"../query-outputs/\"\n",
    "files = os.listdir(DATA_DIR)\n",
    "df_list = [pd.read_csv(os.path.join(DATA_DIR, f)) for f in files]"
   ]
  },
  {
   "cell_type": "markdown",
   "metadata": {},
   "source": [
    "Check if all files have latitude and longitude columns"
   ]
  },
  {
   "cell_type": "code",
   "execution_count": null,
   "metadata": {},
   "outputs": [],
   "source": [
    "def has_lat_lon(frame):\n",
    "    cond1 = any([col == \"Latitude\" for col in frame.columns])\n",
    "    cond2 = any([col == \"Longitude\" for col in frame.columns])\n",
    "    return cond1 and cond2\n",
    "\n",
    "\n",
    "print(\"All files have lat/lon columns:\", all([has_lat_lon(df) for df in df_list]))"
   ]
  },
  {
   "cell_type": "code",
   "execution_count": null,
   "metadata": {},
   "outputs": [],
   "source": [
    "all_dfs = pd.concat(df_list)\n",
    "all_dfs.describe()"
   ]
  },
  {
   "cell_type": "markdown",
   "metadata": {},
   "source": [
    "## Plot data"
   ]
  },
  {
   "cell_type": "code",
   "execution_count": null,
   "metadata": {},
   "outputs": [],
   "source": [
    "def make_basemap(df: pd.DataFrame, projection=\"mill\", full_map=True) -> Basemap:\n",
    "    \"\"\"\n",
    "    Create basemap for geographical plotting.\n",
    "\n",
    "    Parameters\n",
    "    ----------\n",
    "    df : pandas.core.frame.DataFrame\n",
    "        a DataFrame containing the Latitude and Longitude data.\n",
    "        Note: must have \"Latitude\" and \"Longitude\" columns.\n",
    "\n",
    "    full_map: bool\n",
    "        Show the entire world map or only area where the\n",
    "        sample latitude and longitude values are found.\n",
    "        (Default = True, show entire world map)\n",
    "    \"\"\"\n",
    "    llcrnrlat = df.Latitude.min() if not full_map else -90\n",
    "    urcrnrlat = df.Latitude.max() if not full_map else 90\n",
    "    llcrnrlon = df.Longitude.min() if not full_map else -180\n",
    "    urcrnrlon = df.Longitude.max() if not full_map else 180\n",
    "\n",
    "    m = Basemap(\n",
    "        projection=projection,\n",
    "        resolution=\"c\",\n",
    "        llcrnrlat=llcrnrlat,\n",
    "        urcrnrlat=urcrnrlat,\n",
    "        llcrnrlon=llcrnrlon,\n",
    "        urcrnrlon=urcrnrlon,\n",
    "    )\n",
    "    return m"
   ]
  },
  {
   "cell_type": "markdown",
   "metadata": {},
   "source": [
    "### 1. Scatter plot"
   ]
  },
  {
   "cell_type": "code",
   "execution_count": null,
   "metadata": {},
   "outputs": [],
   "source": [
    "fig = plt.figure(figsize=(12, 9))\n",
    "\n",
    "lat_y = all_dfs[\"Latitude\"].to_list()\n",
    "lon_x = all_dfs[\"Longitude\"].to_list()\n",
    "\n",
    "m = make_basemap(all_dfs, full_map=True)\n",
    "m.scatter(lon_x, lat_y, latlon=True, alpha=0.1, s=20, c=\"red\", marker=\"o\")\n",
    "m.drawlsmask(land_color=\"grey\", ocean_color=\"lightblue\", lakes=True)\n",
    "m.drawparallels(np.arange(-90, 90, step=10), labels=[1, 0, 0, 0])\n",
    "m.drawmeridians(np.arange(-180, 180, step=30), labels=[0, 0, 0, 1])\n",
    "\n",
    "plt.title(\"Spatial distribution of Pangaea datasets\", fontsize=20)\n",
    "plt.xlabel(\"x axis (Longitude)\", fontsize=15, labelpad=25)\n",
    "plt.ylabel(\"y axis (Latitude)\", fontsize=15, labelpad=40)\n",
    "plt.show()"
   ]
  },
  {
   "cell_type": "markdown",
   "metadata": {},
   "source": [
    "### 2. Kernal density estimate"
   ]
  },
  {
   "cell_type": "markdown",
   "metadata": {},
   "source": [
    "#### 2.1 Simple example of 2D density plots in python - How to visualize joint distributions \n",
    "Src: https://towardsdatascience.com/simple-example-of-2d-density-plots-in-python-83b83b934f67"
   ]
  },
  {
   "cell_type": "code",
   "execution_count": null,
   "metadata": {},
   "outputs": [],
   "source": [
    "n_components = 3\n",
    "X, truth = make_blobs(\n",
    "    n_samples=300, centers=n_components, cluster_std=[2, 1.5, 1], random_state=42\n",
    ")\n",
    "\n",
    "fig = plt.figure(figsize=(8, 8))\n",
    "plt.scatter(X[:, 0], X[:, 1], s=50, c=truth)\n",
    "plt.title(f\"Example of a mixture of {n_components} distributions\")\n",
    "plt.xlabel(\"x\")\n",
    "plt.ylabel(\"y\");"
   ]
  },
  {
   "cell_type": "code",
   "execution_count": null,
   "metadata": {},
   "outputs": [],
   "source": [
    "# Extract x and y\n",
    "x = X[:, 0]\n",
    "y = X[:, 1]\n",
    "# Define the borders\n",
    "deltaX = (max(x) - min(x)) / 10\n",
    "deltaY = (max(y) - min(y)) / 10\n",
    "xmin = min(x) - deltaX\n",
    "xmax = max(x) + deltaX\n",
    "ymin = min(y) - deltaY\n",
    "ymax = max(y) + deltaY\n",
    "print(xmin, xmax, ymin, ymax)\n",
    "# Create meshgrid\n",
    "xx, yy = np.mgrid[xmin:xmax:100j, ymin:ymax:100j]"
   ]
  },
  {
   "cell_type": "code",
   "execution_count": null,
   "metadata": {},
   "outputs": [],
   "source": [
    "positions = np.vstack([xx.ravel(), yy.ravel()])\n",
    "values = np.vstack([x, y])\n",
    "kernel = stats.gaussian_kde(values)\n",
    "f = np.reshape(kernel(positions).T, xx.shape)"
   ]
  },
  {
   "cell_type": "code",
   "execution_count": null,
   "metadata": {},
   "outputs": [],
   "source": [
    "fig = plt.figure(figsize=(8, 8))\n",
    "ax = fig.gca()\n",
    "ax.set_xlim(xmin, xmax)\n",
    "ax.set_ylim(ymin, ymax)\n",
    "cfset = ax.contourf(xx, yy, f, cmap=\"Blues\")\n",
    "ax.imshow(np.rot90(f), cmap=\"Blues\", extent=[xmin, xmax, ymin, ymax])\n",
    "cset = ax.contour(xx, yy, f, colors=\"k\")\n",
    "ax.clabel(cset, inline=1, fontsize=10)\n",
    "ax.set_xlabel(\"X\")\n",
    "ax.set_ylabel(\"Y\")\n",
    "plt.title(\"2D Gaussian Kernel density estimation\")\n",
    "plt.show()"
   ]
  },
  {
   "cell_type": "markdown",
   "metadata": {},
   "source": [
    "#### 2.2 Seaborn `kdeplot`"
   ]
  },
  {
   "cell_type": "code",
   "execution_count": null,
   "metadata": {},
   "outputs": [],
   "source": [
    "ax = sns.kdeplot(data=all_dfs, x=\"Longitude\", y=\"Latitude\", shade=True, cmap=\"PuBu\")"
   ]
  },
  {
   "cell_type": "markdown",
   "metadata": {},
   "source": [
    "#### 2.3 `scipy.stats.gaussian_kde` example implementation\n",
    "src: https://docs.scipy.org/doc/scipy/reference/generated/scipy.stats.gaussian_kde.html"
   ]
  },
  {
   "cell_type": "markdown",
   "metadata": {},
   "source": [
    "##### 1. Prepare data"
   ]
  },
  {
   "cell_type": "code",
   "execution_count": null,
   "metadata": {},
   "outputs": [],
   "source": [
    "m1 = all_dfs[\"Longitude\"].dropna()\n",
    "m2 = all_dfs[\"Latitude\"].dropna()\n",
    "xmin = m1.min()\n",
    "xmax = m1.max()\n",
    "ymin = m2.min()\n",
    "ymax = m2.max()"
   ]
  },
  {
   "cell_type": "markdown",
   "metadata": {},
   "source": [
    "##### 2. Perform a kernel density estimate on the data:"
   ]
  },
  {
   "cell_type": "code",
   "execution_count": null,
   "metadata": {},
   "outputs": [],
   "source": [
    "X, Y = np.mgrid[xmin:xmax:100j, ymin:ymax:100j]\n",
    "positions = np.vstack([X.ravel(), Y.ravel()])\n",
    "values = np.vstack([m1, m2])\n",
    "kernel = stats.gaussian_kde(values)\n",
    "Z = np.reshape(kernel(positions).T, X.shape)"
   ]
  },
  {
   "cell_type": "markdown",
   "metadata": {},
   "source": [
    "##### 3. Plot the results:"
   ]
  },
  {
   "cell_type": "code",
   "execution_count": null,
   "metadata": {},
   "outputs": [],
   "source": [
    "fig, ax = plt.subplots(figsize=(12, 9))\n",
    "ax.imshow(np.rot90(Z), cmap=plt.cm.Reds, extent=[xmin, xmax, ymin, ymax])\n",
    "ax.scatter(m1, m2, color=\"k\", marker=\".\")\n",
    "ax.set_xlim([-180, 180])\n",
    "ax.set_ylim([-90, 90])\n",
    "plt.show()"
   ]
  },
  {
   "cell_type": "code",
   "execution_count": null,
   "metadata": {},
   "outputs": [],
   "source": [
    "# Prepare map\n",
    "fig = plt.figure(figsize=(12, 9))\n",
    "ax = fig.gca()\n",
    "m = make_basemap(all_dfs, full_map=True)\n",
    "m.drawparallels(np.arange(-90, 90, step=10), labels=[1, 0, 0, 0])\n",
    "m.drawmeridians(np.arange(-180, 180, step=30), labels=[0, 0, 0, 1])\n",
    "\n",
    "# Plot data\n",
    "lat_y = all_dfs[\"Latitude\"].to_list()\n",
    "lon_x = all_dfs[\"Longitude\"].to_list()\n",
    "m.scatter(lon_x, lat_y, latlon=True, alpha=0.1, s=20, c=\"k\", marker=\"o\")\n",
    "m.imshow(\n",
    "    np.rot90(Z),\n",
    "    cmap=plt.cm.Reds,\n",
    ")  # extent=[xmin, xmax, ymin, ymax])\n",
    "\n",
    "plt.title(\"Spatial distribution of Pangaea datasets\", fontsize=20)\n",
    "plt.xlabel(\"x axis (Longitude)\", fontsize=15, labelpad=25)\n",
    "plt.ylabel(\"y axis (Latitude)\", fontsize=15, labelpad=40)\n",
    "plt.show()"
   ]
  },
  {
   "cell_type": "markdown",
   "metadata": {},
   "source": [
    "##### 4. Try it on a map"
   ]
  },
  {
   "cell_type": "code",
   "execution_count": null,
   "metadata": {},
   "outputs": [],
   "source": [
    "# Prepare map\n",
    "fig = plt.figure(figsize=(12, 9))\n",
    "ax = fig.gca()\n",
    "m = make_basemap(all_dfs, full_map=True)\n",
    "m.drawparallels(np.arange(-90, 90, step=10), labels=[1, 0, 0, 0])\n",
    "m.drawmeridians(np.arange(-180, 180, step=30), labels=[0, 0, 0, 1])\n",
    "\n",
    "# Plot data\n",
    "lat_y = all_dfs[\"Latitude\"].to_list()\n",
    "lon_x = all_dfs[\"Longitude\"].to_list()\n",
    "m.scatter(lon_x, lat_y, latlon=True, alpha=0.1, s=20, c=\"k\", marker=\"o\")\n",
    "m.imshow(\n",
    "    np.rot90(Z),\n",
    "    cmap=plt.cm.Reds,\n",
    ")  # extent=[xmin, xmax, ymin, ymax])\n",
    "\n",
    "m.drawcoastlines()\n",
    "plt.title(\"Spatial distribution of Pangaea datasets\", fontsize=20)\n",
    "plt.xlabel(\"x axis (Longitude)\", fontsize=15, labelpad=25)\n",
    "plt.ylabel(\"y axis (Latitude)\", fontsize=15, labelpad=40)\n",
    "plt.show()"
   ]
  },
  {
   "cell_type": "code",
   "execution_count": null,
   "metadata": {},
   "outputs": [],
   "source": [
    "fig = plt.figure(figsize=(12, 9))\n",
    "m.contourf(X, Y, Z, levels=np.linspace(0, Z.max(), 25), cmap=\"Reds\")\n",
    "plt.show()"
   ]
  },
  {
   "cell_type": "code",
   "execution_count": null,
   "metadata": {},
   "outputs": [],
   "source": [
    "fig = plt.figure(figsize=(12, 9))\n",
    "plt.contourf(X, Y, Z, levels=np.linspace(0, Z.max(), 25), cmap=\"Reds\")\n",
    "plt.show()"
   ]
  },
  {
   "cell_type": "markdown",
   "metadata": {},
   "source": [
    "- [Kernel Density Estimate of Species Distributions](https://scikit-learn.org/stable/auto_examples/neighbors/plot_species_kde.html)\n",
    "- [In Depth kernel density estiation](https://jakevdp.github.io/PythonDataScienceHandbook/05.13-kernel-density-estimation.html)"
   ]
  },
  {
   "cell_type": "code",
   "execution_count": null,
   "metadata": {},
   "outputs": [],
   "source": [
    "# all_dfs[['Longitude', 'Latitude']].to_csv(\"../all_dfs.csv\", index=False)"
   ]
  },
  {
   "cell_type": "code",
   "execution_count": null,
   "metadata": {},
   "outputs": [],
   "source": []
  },
  {
   "cell_type": "code",
   "execution_count": null,
   "metadata": {},
   "outputs": [],
   "source": []
  },
  {
   "cell_type": "code",
   "execution_count": null,
   "metadata": {},
   "outputs": [],
   "source": []
  }
 ],
 "metadata": {
  "kernelspec": {
   "display_name": "Python 3.7 (ws)",
   "language": "python",
   "name": "ws"
  },
  "language_info": {
   "codemirror_mode": {
    "name": "ipython",
    "version": 3
   },
   "file_extension": ".py",
   "mimetype": "text/x-python",
   "name": "python",
   "nbconvert_exporter": "python",
   "pygments_lexer": "ipython3",
   "version": "3.7.10"
  }
 },
 "nbformat": 4,
 "nbformat_minor": 4
}
