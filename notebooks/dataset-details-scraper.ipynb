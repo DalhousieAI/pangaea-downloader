{
 "cells": [
  {
   "cell_type": "markdown",
   "id": "6e57110e",
   "metadata": {},
   "source": [
    "# Dataset details scraper\n",
    "**Input:** Pangaea benthic image dataset csv file.\n",
    "\n",
    "**Output:**\n",
    "- `.csv` file with:\n",
    "    - \"id\" (the 6 digit pangaea dataset ID)\n",
    "    - \"license\" (the license code)\n",
    "    - \"license_url\" (the url to the full license text)\n",
    "    - \"citation_paper\" (plain text citation for the paper)\n",
    "    - \"proj_name\" (the name of the project the dataset is part of)\n",
    "    - \"proj_url\" (url to the project website/wiki etc.)\n",
    "\n",
    "- `.bib` file with all the bibtex citations for each dataset\n",
    "\n",
    "- `.txt` file with information for Table 2 of the BenthicNet Dataset Paper."
   ]
  },
  {
   "cell_type": "code",
   "execution_count": null,
   "id": "62c1f51a",
   "metadata": {},
   "outputs": [],
   "source": [
    "from typing import Optional, Tuple, Union\n",
    "\n",
    "import pandas as pd\n",
    "import pangaeapy\n",
    "import requests\n",
    "from bs4 import BeautifulSoup\n",
    "from bs4.element import Tag\n",
    "from tqdm.auto import tqdm"
   ]
  },
  {
   "cell_type": "markdown",
   "id": "3164bb1f",
   "metadata": {},
   "source": [
    "### Load list of dataset IDs"
   ]
  },
  {
   "cell_type": "code",
   "execution_count": null,
   "id": "45d08b11",
   "metadata": {},
   "outputs": [],
   "source": [
    "file = \"../full-dataset/pangaea_2022-01-27.csv\"\n",
    "df = pd.read_csv(file, low_memory=False)\n",
    "ds_ids = [ds_name.split(\"-\")[-1] for ds_name in df.dataset.unique()]\n",
    "print(f\"Total {len(ds_ids)} dataset licenses to fetch.\")"
   ]
  },
  {
   "cell_type": "markdown",
   "id": "ea068d31",
   "metadata": {},
   "source": [
    "### Functions to extract dataset metadata\n",
    "- Dataset citation (BibTex)\n",
    "- Paper citation (Plain text)\n",
    "- Project URL"
   ]
  },
  {
   "cell_type": "code",
   "execution_count": null,
   "id": "771e6030",
   "metadata": {},
   "outputs": [],
   "source": [
    "def get_dataset_url(ds_id: Union[str, int]) -> str:\n",
    "    \"\"\"Return dataset URL given six digit dataset ID.\"\"\"\n",
    "    if isinstance(ds_id, int):\n",
    "        ds_id = str(ds_id)\n",
    "    if ds_id.startswith(\"pangaea\"):\n",
    "        ds_id = ds_id.split(\"-\")[-1]\n",
    "    return f\"https://doi.pangaea.de/10.1594/PANGAEA.{ds_id}\""
   ]
  },
  {
   "cell_type": "code",
   "execution_count": null,
   "id": "80170fde",
   "metadata": {},
   "outputs": [],
   "source": [
    "def get_bibtex(ds_id: str, verbose=False) -> str:\n",
    "    \"\"\"Get the BibTex Citation of a Pangaea dataset using the dataset ID.\"\"\"\n",
    "    bib_url = get_dataset_url(ds_id) + \"?format=citation_bibtex\"\n",
    "    resp = requests.get(bib_url)\n",
    "    if verbose:\n",
    "        print(\"\\tStatus code:\", resp.status_code)\n",
    "    return resp.text"
   ]
  },
  {
   "cell_type": "code",
   "execution_count": null,
   "id": "1046701f",
   "metadata": {},
   "outputs": [],
   "source": [
    "def get_info_tag(soup: BeautifulSoup, field: str) -> Tag:\n",
    "    \"\"\"\n",
    "    Find and return the div tag of class=\"row\" containing the given data field.\n",
    "\n",
    "    Paramaters\n",
    "    ----------\n",
    "    soup: bs4.BeautifulSoup\n",
    "        The parsed html to search within.\n",
    "    field: str\n",
    "        The fields to the left of each Pangaea dataset webpage.\n",
    "        Possible values: [\"citation\", \"project\", \"license\", \"size\" etc.]\n",
    "\n",
    "    Returns\n",
    "    -------\n",
    "    row: bs4.element.Tag\n",
    "        the div tag containing the information relating to the given field.\n",
    "    \"\"\"\n",
    "    for div in soup.find_all(\"div\", class_=\"title\"):\n",
    "        if not field.lower() in div.text.lower():\n",
    "            continue\n",
    "        row = div.parent.parent\n",
    "        return row"
   ]
  },
  {
   "cell_type": "code",
   "execution_count": null,
   "id": "9475ef1a",
   "metadata": {},
   "outputs": [],
   "source": [
    "def get_paper_citation(soup: BeautifulSoup) -> Optional[str]:\n",
    "    \"\"\"Given a parsed html object return the dataset research paper citation.\"\"\"\n",
    "    row = get_info_tag(soup, \"citation\")\n",
    "    if row is None:\n",
    "        return\n",
    "    word = \"Supplement to:\"\n",
    "    for line in row.find(\"h1\", class_=\"hanging citation\").text.split(\"\\n\"):\n",
    "        if word.lower() in line.lower():\n",
    "            return line.split(word)[-1].strip().replace(word, \"\")"
   ]
  },
  {
   "cell_type": "code",
   "execution_count": null,
   "id": "91984e34",
   "metadata": {},
   "outputs": [],
   "source": [
    "def get_project_info(soup: BeautifulSoup) -> Tuple[str, str]:\n",
    "    \"\"\"Given a parsed html object return a tuple with the dataset project name and URL (if available).\"\"\"\n",
    "    proj_name, proj_href = None, None\n",
    "    proj = get_info_tag(soup, \"Project\")\n",
    "    if proj is not None:\n",
    "        proj_name = proj.find(\"div\", class_=\"descr\").text.strip()\n",
    "        pop_link = proj.find(\"a\", class_=\"popover-link\")\n",
    "        if pop_link is not None:\n",
    "            href_tag = pop_link[\"data-content\"].split(\"\\n\")[1].split(\" \")[4]\n",
    "            proj_href = href_tag.split('\"')[1]\n",
    "    return proj_name, proj_href"
   ]
  },
  {
   "cell_type": "markdown",
   "id": "3e605414",
   "metadata": {},
   "source": [
    "### Scrape information for one dataset"
   ]
  },
  {
   "cell_type": "code",
   "execution_count": null,
   "id": "8714d048",
   "metadata": {},
   "outputs": [],
   "source": [
    "# Scraper\n",
    "# ds_id = 865440\n",
    "# ds_id = 227308\n",
    "ds_id = 778725\n",
    "ds_url = get_dataset_url(ds_id)\n",
    "print(ds_url)\n",
    "\n",
    "resp = requests.get(ds_url)\n",
    "soup = BeautifulSoup(resp.text, \"lxml\")\n",
    "\n",
    "bibtex = get_bibtex(ds_id)\n",
    "print(bibtex)\n",
    "bib_tag = bibtex.split(\"{\")[1].split(\",\")[0]\n",
    "print(bib_tag)"
   ]
  },
  {
   "cell_type": "code",
   "execution_count": null,
   "id": "5b7150fd",
   "metadata": {},
   "outputs": [],
   "source": [
    "ds = pangaeapy.PanDataSet(ds_url)\n",
    "assert ds is not None\n",
    "# Extract and store dataset info in dict\n",
    "info = {\n",
    "    \"dataset\": f\"pangaea-{ds_id}\",\n",
    "    \"bibtex_tag\": bib_tag,\n",
    "    \"citation_dataset\": ds.citation,\n",
    "}\n",
    "info[\"citation_paper\"] = get_paper_citation(soup)\n",
    "info[\"license\"] = ds.licenses[0].label.text if len(ds.licenses) > 0 else None\n",
    "info[\"license_url\"] = ds.licenses[0].URI.text if len(ds.licenses) > 0 else None\n",
    "proj = get_project_info(soup)\n",
    "info[\"proj_name\"], info[\"proj_url\"] = proj if proj is not None else (None, None)"
   ]
  },
  {
   "cell_type": "code",
   "execution_count": null,
   "id": "e2ecf400",
   "metadata": {},
   "outputs": [],
   "source": [
    "info"
   ]
  },
  {
   "cell_type": "markdown",
   "id": "c20d6e9a",
   "metadata": {},
   "source": [
    "## For all datasets"
   ]
  },
  {
   "cell_type": "code",
   "execution_count": null,
   "id": "b74f5b63",
   "metadata": {},
   "outputs": [],
   "source": [
    "bibtex_list = []\n",
    "info_list = []\n",
    "\n",
    "for i, ds_id in enumerate(tqdm(ds_ids)):\n",
    "    # Produce the dataset URL from the ID\n",
    "    ds_url = get_dataset_url(ds_id)\n",
    "    # print(f\"[{i+1}/{len(ds_ids)}] Requesting: {ds_url}\")\n",
    "\n",
    "    # Fetch the PanDataSet object\n",
    "    ds = pangaeapy.PanDataSet(ds_url)\n",
    "    assert ds is not None\n",
    "\n",
    "    # Request the dataset webpage and parse\n",
    "    resp = requests.get(ds_url)\n",
    "    soup = BeautifulSoup(resp.text, \"lxml\")\n",
    "\n",
    "    # Fetch the bibtex citation for the dataset\n",
    "    bibtex = get_bibtex(ds_id)\n",
    "    bib_tag = bibtex.split(\"{\")[1].split(\",\")[0]\n",
    "\n",
    "    # Extract and store dataset info in dict\n",
    "    info = {\n",
    "        \"dataset\": f\"pangaea-{ds_id}\",\n",
    "        \"bibtex_tag\": bib_tag,\n",
    "        \"citation_dataset\": ds.citation,\n",
    "    }\n",
    "    info[\"citation_paper\"] = get_paper_citation(soup)\n",
    "    info[\"license\"] = ds.licenses[0].label.text if len(ds.licenses) > 0 else None\n",
    "    info[\"license_url\"] = ds.licenses[0].URI.text if len(ds.licenses) > 0 else None\n",
    "    proj = get_project_info(soup)\n",
    "    info[\"proj_name\"], info[\"proj_url\"] = proj if proj is not None else (None, None)\n",
    "\n",
    "    # Add info to list\n",
    "    bibtex_list.append(bibtex)\n",
    "    info_list.append(info)"
   ]
  },
  {
   "cell_type": "code",
   "execution_count": null,
   "id": "bdbe2cd7",
   "metadata": {},
   "outputs": [],
   "source": [
    "print(ds_url)"
   ]
  },
  {
   "cell_type": "markdown",
   "id": "ae116d94",
   "metadata": {},
   "source": [
    "### Save dataset details to file"
   ]
  },
  {
   "cell_type": "code",
   "execution_count": null,
   "id": "a3bc7bfe",
   "metadata": {},
   "outputs": [],
   "source": [
    "info_df = pd.DataFrame(info_list)\n",
    "info_df"
   ]
  },
  {
   "cell_type": "code",
   "execution_count": null,
   "id": "344ed6bc",
   "metadata": {},
   "outputs": [],
   "source": [
    "output_file = \"../pangaea-dataset-details.csv\"\n",
    "info_df.to_csv(output_file, index=False)\n",
    "print(f\"[INFO] All dataset details written to file: '{output_file}'\")"
   ]
  },
  {
   "cell_type": "markdown",
   "id": "53155c87",
   "metadata": {},
   "source": [
    "### Save bibtex citations to file"
   ]
  },
  {
   "cell_type": "code",
   "execution_count": null,
   "id": "4c9f4522",
   "metadata": {},
   "outputs": [],
   "source": [
    "# Write citations to file\n",
    "bibtex_file = \"../pangaea-citations.bib\"\n",
    "with open(bibtex_file, \"w\") as f:\n",
    "    f.writelines(bibtex_list)\n",
    "print(f\"[INFO] All dataset BibTex citations written to file: '{bibtex_file}'\")"
   ]
  },
  {
   "cell_type": "code",
   "execution_count": null,
   "id": "f078023d",
   "metadata": {},
   "outputs": [],
   "source": [
    "! cat \"../pangaea-citations.bib\""
   ]
  },
  {
   "cell_type": "code",
   "execution_count": null,
   "id": "ba1211e7",
   "metadata": {},
   "outputs": [],
   "source": []
  },
  {
   "cell_type": "code",
   "execution_count": null,
   "id": "a4d31936",
   "metadata": {},
   "outputs": [],
   "source": []
  },
  {
   "cell_type": "code",
   "execution_count": null,
   "id": "22fdc56c",
   "metadata": {},
   "outputs": [],
   "source": []
  },
  {
   "cell_type": "code",
   "execution_count": null,
   "id": "f2b7452d",
   "metadata": {},
   "outputs": [],
   "source": []
  },
  {
   "cell_type": "code",
   "execution_count": null,
   "id": "11db8111",
   "metadata": {},
   "outputs": [],
   "source": []
  },
  {
   "cell_type": "markdown",
   "id": "d6fa0fbc",
   "metadata": {},
   "source": [
    "# TODO:\n",
    "- write code to generate latex code for table 2: dataset details in BenthicNet Paper\n",
    "- generate `.txt` file the following delimited values (latex formatted):\n",
    "    - Dataset (pangaea ID)\n",
    "    - Repository\n",
    "    - NoSites\n",
    "    - NoImages\n",
    "    - License\n",
    "    - Citations"
   ]
  },
  {
   "cell_type": "code",
   "execution_count": null,
   "id": "1e60712f",
   "metadata": {},
   "outputs": [],
   "source": []
  }
 ],
 "metadata": {
  "kernelspec": {
   "display_name": "Python 3.8 (ws)",
   "language": "python",
   "name": "ws"
  },
  "language_info": {
   "codemirror_mode": {
    "name": "ipython",
    "version": 3
   },
   "file_extension": ".py",
   "mimetype": "text/x-python",
   "name": "python",
   "nbconvert_exporter": "python",
   "pygments_lexer": "ipython3",
   "version": "3.8.12"
  }
 },
 "nbformat": 4,
 "nbformat_minor": 5
}
