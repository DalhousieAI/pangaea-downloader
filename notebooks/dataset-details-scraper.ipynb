{
 "cells": [
  {
   "cell_type": "code",
   "execution_count": null,
   "id": "62c1f51a",
   "metadata": {},
   "outputs": [],
   "source": [
    "from typing import Tuple\n",
    "\n",
    "import pandas as pd\n",
    "import pangaeapy\n",
    "import requests\n",
    "from bs4 import BeautifulSoup\n",
    "from bs4.element import Tag\n",
    "from tqdm.auto import tqdm"
   ]
  },
  {
   "cell_type": "markdown",
   "id": "3164bb1f",
   "metadata": {},
   "source": [
    "### Load list of dataset IDs"
   ]
  },
  {
   "cell_type": "code",
   "execution_count": null,
   "id": "45d08b11",
   "metadata": {},
   "outputs": [],
   "source": [
    "file = \"../pangaea_2022-01-27.csv\"\n",
    "df = pd.read_csv(file, low_memory=False)\n",
    "ds_ids = [ds_name.split(\"-\")[-1] for ds_name in df.dataset.unique()]\n",
    "print(f\"Total {len(ds_ids)} dataset licenses to fetch.\")"
   ]
  },
  {
   "cell_type": "markdown",
   "id": "ea068d31",
   "metadata": {},
   "source": [
    "### Functions to extract dataset metadata\n",
    "- Paper citation\n",
    "- Project URL"
   ]
  },
  {
   "cell_type": "code",
   "execution_count": null,
   "id": "771e6030",
   "metadata": {},
   "outputs": [],
   "source": [
    "def get_dataset_url(ds_id):\n",
    "    \"\"\"Return dataset URL given six digit dataset ID.\"\"\"\n",
    "    return f\"https://doi.pangaea.de/10.1594/PANGAEA.{ds_id}\""
   ]
  },
  {
   "cell_type": "code",
   "execution_count": null,
   "id": "1046701f",
   "metadata": {},
   "outputs": [],
   "source": [
    "def get_info_tag(soup: BeautifulSoup, field: str) -> Tag:\n",
    "    \"\"\"\n",
    "    Find and return the div tag of class=\"row\" containing the given data field.\n",
    "\n",
    "    Paramaters\n",
    "    ----------\n",
    "    soup: bs4.BeautifulSoup\n",
    "        The parsed html to search within.\n",
    "    field: str\n",
    "        The fields to the left of each Pangaea dataset webpage.\n",
    "        Possible values: [\"citation\", \"project\", \"license\", \"size\" etc.]\n",
    "\n",
    "    Returns\n",
    "    -------\n",
    "    row: bs4.element.Tag\n",
    "        the div tag containing the information relating to the given field.\n",
    "    \"\"\"\n",
    "    for div in soup.find_all(\"div\", class_=\"title\"):\n",
    "        if not field.lower() in div.text.lower():\n",
    "            continue\n",
    "        row = div.parent.parent\n",
    "        return row"
   ]
  },
  {
   "cell_type": "code",
   "execution_count": null,
   "id": "9475ef1a",
   "metadata": {},
   "outputs": [],
   "source": [
    "def get_paper_citation(soup: BeautifulSoup) -> str:\n",
    "    \"\"\"Given a parsed html object return the dataset research paper citation.\"\"\"\n",
    "    row = get_info_tag(soup, \"citation\")\n",
    "    word = \"supplement to:\"\n",
    "    for line in row.find(\"h1\", class_=\"hanging citation\").text.split(\"\\n\"):\n",
    "        if word.lower() in line.lower():\n",
    "            return line.split(word)[-1].strip()"
   ]
  },
  {
   "cell_type": "code",
   "execution_count": null,
   "id": "91984e34",
   "metadata": {},
   "outputs": [],
   "source": [
    "def get_project_info(soup: BeautifulSoup) -> Tuple[str, str]:\n",
    "    \"\"\"Given a parsed html object return a tuple with the dataset project name and URL (if available).\"\"\"\n",
    "    proj = get_info_tag(soup, \"Project\")\n",
    "    if proj is not None:\n",
    "        proj_name = proj.find(\"div\", class_=\"descr\").text.strip()\n",
    "        pop_link = proj.find(\"a\", class_=\"popover-link\")\n",
    "        proj_href = pop_link[\"href\"] if pop_link is not None else None\n",
    "        return proj_name, proj_href"
   ]
  },
  {
   "cell_type": "markdown",
   "id": "3e605414",
   "metadata": {},
   "source": [
    "### Scrape information for one dataset"
   ]
  },
  {
   "cell_type": "code",
   "execution_count": null,
   "id": "8714d048",
   "metadata": {},
   "outputs": [],
   "source": [
    "# Scraper\n",
    "# ds_id = 865440\n",
    "ds_id = 227308\n",
    "ds_url = get_dataset_url(ds_id)\n",
    "print(ds_url)\n",
    "resp = requests.get(ds_url)\n",
    "soup = BeautifulSoup(resp.text, \"lxml\")"
   ]
  },
  {
   "cell_type": "markdown",
   "id": "33687e51",
   "metadata": {},
   "source": [
    "### Single example"
   ]
  },
  {
   "cell_type": "code",
   "execution_count": null,
   "id": "5b7150fd",
   "metadata": {},
   "outputs": [],
   "source": [
    "ds = pangaeapy.PanDataSet(ds_url)\n",
    "assert ds is not None\n",
    "info = {\n",
    "    \"id\": ds_id,\n",
    "    \"citation_dataset\": ds.citation,\n",
    "}\n",
    "info[\"license\"] = ds.licenses[0].label.text if len(ds.licenses) > 0 else None\n",
    "info[\"license_url\"] = ds.licenses[0].URI.text if len(ds.licenses) > 0 else None"
   ]
  },
  {
   "cell_type": "code",
   "execution_count": null,
   "id": "eb5d4b69",
   "metadata": {},
   "outputs": [],
   "source": [
    "# Citation for the research article in which this dataset is supplement\n",
    "info[\"citation_paper\"] = get_paper_citation(soup)\n",
    "\n",
    "# Information about the project that this dataset was a part of\n",
    "proj = get_project_info(soup)\n",
    "info[\"proj_name\"], info[\"proj_url\"] = proj if proj is not None else (None, None)"
   ]
  },
  {
   "cell_type": "code",
   "execution_count": null,
   "id": "e2ecf400",
   "metadata": {},
   "outputs": [],
   "source": [
    "info"
   ]
  },
  {
   "cell_type": "markdown",
   "id": "c20d6e9a",
   "metadata": {},
   "source": [
    "## For all datasets"
   ]
  },
  {
   "cell_type": "code",
   "execution_count": null,
   "id": "b74f5b63",
   "metadata": {},
   "outputs": [],
   "source": [
    "info_list = []\n",
    "for ds_id in tqdm(ds_ids):\n",
    "    ds_url = get_dataset_url(ds_id)\n",
    "    # print(f\"[{i+1}/{len(ds_ids)}] Requesting: {ds_url}\")\n",
    "\n",
    "    ds = pangaeapy.PanDataSet(ds_url)\n",
    "    resp = requests.get(ds_url)\n",
    "    soup = BeautifulSoup(resp.text, \"lxml\")\n",
    "\n",
    "    assert ds is not None\n",
    "    info = {\n",
    "        \"id\": ds_id,\n",
    "        \"citation_dataset\": ds.citation,\n",
    "    }\n",
    "    info[\"license\"] = ds.licenses[0].label.text if len(ds.licenses) > 0 else None\n",
    "    info[\"license_url\"] = ds.licenses[0].URI.text if len(ds.licenses) > 0 else None\n",
    "    # Extract Project info\n",
    "    info[\"citation_paper\"] = get_paper_citation(soup)\n",
    "    proj = get_project_info(soup)\n",
    "    info[\"proj_name\"], info[\"proj_url\"] = proj if proj is not None else (None, None)\n",
    "    # Add to list\n",
    "    info_list.append(info)"
   ]
  },
  {
   "cell_type": "markdown",
   "id": "ae116d94",
   "metadata": {},
   "source": [
    "### Save info to file"
   ]
  },
  {
   "cell_type": "code",
   "execution_count": null,
   "id": "a3bc7bfe",
   "metadata": {},
   "outputs": [],
   "source": [
    "info_df = pd.DataFrame(info_list)\n",
    "info_df"
   ]
  },
  {
   "cell_type": "code",
   "execution_count": null,
   "id": "344ed6bc",
   "metadata": {},
   "outputs": [],
   "source": [
    "output_file = \"../pangaea-dataset-details.csv\"\n",
    "info_df.to_csv(output_file, index=False)\n",
    "print(f\"Saved successfully to '{output_file}'!\")"
   ]
  },
  {
   "cell_type": "code",
   "execution_count": null,
   "id": "0c8bf7ad",
   "metadata": {},
   "outputs": [],
   "source": []
  },
  {
   "cell_type": "code",
   "execution_count": null,
   "id": "6b46a530",
   "metadata": {},
   "outputs": [],
   "source": []
  }
 ],
 "metadata": {
  "kernelspec": {
   "display_name": "Python 3.8 (ws)",
   "language": "python",
   "name": "ws"
  },
  "language_info": {
   "codemirror_mode": {
    "name": "ipython",
    "version": 3
   },
   "file_extension": ".py",
   "mimetype": "text/x-python",
   "name": "python",
   "nbconvert_exporter": "python",
   "pygments_lexer": "ipython3",
   "version": "3.8.12"
  }
 },
 "nbformat": 4,
 "nbformat_minor": 5
}
